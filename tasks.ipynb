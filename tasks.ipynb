{
 "cells": [
  {
   "cell_type": "markdown",
   "metadata": {},
   "source": [
    "#### Task 1 - Permutations and Combinations\n",
    "##### Problem Statement\n",
    "Suppose we alter the Lady Tasting Tea experiment to involve twelve cups of tea. Six have the milk in first and the other six have tea in first. A person claims they have the special power of being able to tell whether the tea or the milk went into a cup first upon tasting it. You agree to accept their claim if they can tell which of the six cups in your experiment had the milk in first.\n",
    "\n",
    "Calculate, using Python, the probability that they select the correct six cups. Here you should assume that they have no special powers in figuring it out, and that they are just guessing. Remember to show and justify your workings in both code and Markdown cells.\n",
    "\n",
    "Suppose now that you are willing to accept one error. Once they select the six cups they think had the milk in first, you will give them the benefit of the doubt if they have selected at least five of the correct cups. Calculate the probability, assuming they have no special powers, that the person makes **at most one error**.\n",
    "\n",
    "Would you accept two errors? Explain your reasoning.\n"
   ]
  },
  {
   "cell_type": "markdown",
   "metadata": {},
   "source": [
    "#### The Lady Tasting Tea Experiment\n",
    "![Lady Tasting Tea](Images/ladytastingtea.PNG)\n",
    "##### 1.1 Introduction\n",
    "When working at Rothamsted Research Station in 1919, Ronald Fisher offered a cup of tea to his colleague, Dr. Muriel Bristol. She  declined, explaining that she preferred the milk to be poured into the cup first. Fisher dismissed her request, insisting that the order in which milk was added couldn’t affect the taste. Bristol stood her ground, insisting that she could always tell the difference. William Roach, her future husband, overheard the conversation and suggested that she be tested.\n",
    "\n",
    "This \"Lady Tasting Tea\" experiment laid the groundwork for modern hypothesis testing, introducing the concept of formulating a null hypothesis and assessing its validity through experimental data. Fisher's development of statistical methods from this experiment became foundational tools in the field of inferential statistics.\n",
    "\n",
    "In the experiment, Bristol was presented with eight cups of tea in a random order — four made by adding milk first and four made by adding tea first. Her task was to identify which four cups were prepared using one of these methods. In this hypothetical alternative, the setup involves twelve cups of tea, with six prepared by adding milk first and six by adding tea first. The task remains the same: to correctly identify the six \"milk first\" cups.\n",
    "\n",
    "We can now formulate our null and alternative hypotheses:\n",
    "\n",
    "**Null Hypothesis:**\n",
    "The lady _cannot_ distinguish between cups of tea where milk was added first and cups where tea was added first. Any correct identifications are due to chance alone.\n",
    "\n",
    "**Alternative Hypothesis:**\n",
    "The lady _does_ have special powers and _can_ distinguish between milk-first cups and milk-last cups.\n"
   ]
  },
  {
   "cell_type": "markdown",
   "metadata": {},
   "source": [
    "##### 1.2 Using the Combination Formula\n",
    "\n",
    "It's important to emphasise that we're using *combinations rather than permutations* here since the order in which the cups are chosen doesn't matter. Combinations are used when the arrangement of the selected items is irrelevant, while permutations consider the order, which is not relevant in this case. As we are selecting four cups with milk first from eight cups in total, we care only about which cups are selected, rather than the sequence in which they are chosen.\n",
    "\n",
    "We therefore use the [combination formula](https://en.wikipedia.org/wiki/Combination) to calculate the number of ways to select a smaller set of cups from a larger set. The formula is used to calculate how many ways we can choose **k** items from a total of **n** items, and it is given by:\n",
    "<br>\n",
    "<br>\n",
    "$${\\binom {n}{k}} = \\frac{n(n-1)\\dotsb (n-k+1)}{k(k-1)\\dotsb 1}$$\n",
    "\n",
    "\n",
    "Where:\n",
    "\n",
    "- **n!** (n factorial) is the product of all positive integers from 1 to \\( n \\),\n",
    "- **k!** is the product of all positive integers from 1 to \\( k \\),\n",
    "- **(n-k)!** is the product of all positive integers from 1 to \\( (n - k) \\)."
   ]
  },
  {
   "cell_type": "markdown",
   "metadata": {},
   "source": [
    "The method for calculating this in Python's standard library is [math.comb](https://www.w3schools.com/python/ref_math_comb.asp).\n",
    "\n",
    "##### Probability of selecting 4 milk-first cups\n",
    "Before we write any code, we can satisfy ourselves of the numbers mathematically by plugging in the figures:\n",
    "<br><br>\n",
    "\n",
    "\n",
    "\n",
    "| **Expression**        | **Calculation**                                    | **Result** |\n",
    "|------------------------|---------------------------------------------------|------------|\n",
    "| 8!                    | 8 × 7 × 6 × 5 × 4 × 3 × 2 × 1                     | 40,320     |\n",
    "| 4!                    | 4 × 3 × 2 × 1                                     | 24         |\n",
    "| (8 − 4)! = 4!         | 4 × 3 × 2 × 1                                     | 24         |\n",
    "| Number of combinations| 40,320 / (24 × 24) = 40,320 / 576 = 70            | **70**         |\n",
    "\n",
    "<br> **or** <br>\n",
    "$$\n",
    "\\binom{8}{4} = \\frac{8!}{4!(8-4)!} = \\frac{8 \\cdot 7 \\cdot 6 \\cdot 5}{4 \\cdot 3 \\cdot 2 \\cdot 1} = \\frac{1680}{24} = \\mathbf{70}\n",
    "$$\n",
    "\n",
    "\n",
    "\n",
    "\n"
   ]
  },
  {
   "cell_type": "markdown",
   "metadata": {},
   "source": [
    "In the experiment then, the Lady  had **70** total ways of choosing four cups out of eight when the order of selection was ignored. If the null hypothesis is true, the probability that the lady could correctly select the 4 milk-first cups of tea by chance alone, is **1 in 70**.\n",
    "\n",
    "In our version of the experiment, we are asked to imagine that twelve rather than eight cups of tea are presented to the Lady. Lets now plug in our updated figures:\n",
    "<br><br>\n",
    "\n",
    "| **Expression**        | **Calculation**                                      | **Result**    |\n",
    "|------------------------|-----------------------------------------------------|---------------|\n",
    "| 12!                   | 12 × 11 × 10 × 9 × 8 × 7 × 6 × 5 × 4 × 3 × 2 × 1     | 479,001,600   |\n",
    "| 6!                    | 6 × 5 × 4 × 3 × 2 × 1                               | 720           |\n",
    "| (12 − 6)! = 6!        | 6 × 5 × 4 × 3 × 2 × 1                               | 720           |\n",
    "| Number of combinations| 479,001,600 / (720 × 720) = 479,001,600 / 518,400 = 924 | **924**           |\n",
    "\n",
    "<br> **or** <br>\n",
    "\n",
    "\n",
    "$$\n",
    "\\binom{12}{6} = \\frac{12!}{6!(12-6)!} = \\frac{12 \\cdot 11 \\cdot 10 \\cdot 9 \\cdot 8 \\cdot 7}{6 \\cdot 5 \\cdot 4 \\cdot 3 \\cdot 2 \\cdot 1} = \\frac{665280}{720} = \\textbf{924}\n",
    "$$\n",
    "\n",
    "<br>\n",
    "\n",
    "The Lady now has **924** ways of selecting six milk-first cups out of twelve total cups. Or: if the null hypothesis is true, the probability that the lady could correctly select the 4 milk-first cups of tea by chance alone, is **1 in 924**.\n",
    "In order to code this, we'll start off by importanting the necessary libraries:"
   ]
  },
  {
   "cell_type": "code",
   "execution_count": 211,
   "metadata": {},
   "outputs": [],
   "source": [
    "import itertools\n",
    "import random\n",
    "import numpy as np\n",
    "import math\n",
    "import matplotlib.pyplot as plt"
   ]
  },
  {
   "cell_type": "markdown",
   "metadata": {},
   "source": [
    "We'll define our variables and plug them into the combination formula:"
   ]
  },
  {
   "cell_type": "code",
   "execution_count": 212,
   "metadata": {},
   "outputs": [
    {
     "name": "stdout",
     "output_type": "stream",
     "text": [
      "In Fisher's experiment, the number of ways to choose 4 milk-before-tea from 8 cups is: 70\n"
     ]
    }
   ],
   "source": [
    "# Adapted from https://github.com/ianmcloughlin/2425_applied_statistics/blob/main/02_lady_tasting_tea.ipynb\n",
    "\n",
    "# Let's define our variables - n = number of cups; k = number of cups with milk in first\n",
    "n = 8 \n",
    "k = 4  \n",
    "\n",
    "# Calculate the number of combinations\n",
    "combination = math.factorial(n) // (math.factorial(k) * math.factorial(n - k))\n",
    "\n",
    "print(f\"In Fisher's experiment, the number of ways to choose {k} milk-first from {n} cups is: {combination}\")\n"
   ]
  },
  {
   "cell_type": "markdown",
   "metadata": {},
   "source": [
    "This is the value we expected from our manual calculations. \n",
    "##### 1.3 Probability of selecting 6 milk-first cups\n",
    "We'll now amend this code to calculate the numer of ways to choose 6 milk-first from 12 cups:"
   ]
  },
  {
   "cell_type": "code",
   "execution_count": 192,
   "metadata": {},
   "outputs": [
    {
     "name": "stdout",
     "output_type": "stream",
     "text": [
      "In our version of the experiment, the number of ways to choose 6 milk-before-tea cups from 12 cups is: 924\n"
     ]
    }
   ],
   "source": [
    "# Let's define our variables - n = number of cups; k = number of cups with milk in first\n",
    "n = 12  \n",
    "k = 6  \n",
    "\n",
    "# Calculate the number of combinations\n",
    "combination = math.factorial(n) // (math.factorial(k) * math.factorial(n - k))\n",
    "\n",
    "print(f\"In our version of the experiment, the number of ways to choose {k} milk-before-tea cups from {n} cups is: {combination}\")\n"
   ]
  },
  {
   "cell_type": "markdown",
   "metadata": {},
   "source": [
    "This is the figure we expected from our manual calculations. Below is an adapted version of code from our lecture, amended to reflect that we are now dealing with six cups rather than four."
   ]
  },
  {
   "cell_type": "code",
   "execution_count": 216,
   "metadata": {},
   "outputs": [],
   "source": [
    "## Code adapted from https://github.com/ianmcloughlin/2425_applied_statistics/blob/main/02_lady_tasting_tea.ipynb\n",
    "no_cups = 12\n",
    "no_cups_milk_first = 6\n",
    "\n",
    "# The cup labels.\n",
    "labels = list(range(no_cups))\n",
    "combs = list(itertools.combinations(labels, no_cups_milk_first))\n",
    "\n",
    "# Select six cups at random to put milk in first, sort the labels and then turn labels_milks to a set\n",
    "labels_milk = random.sample(labels, 6)\n",
    "labels_milk.sort()\n",
    "set(labels_milk)\n",
    "\n",
    "# Calculate the overlap between each element of combs and labels_milk.\n",
    "no_overlaps = []\n",
    "\n",
    "## This for loop iteraates through each combination, converts it & labels_milk into sets and finds the intersection/common elements \n",
    "## between them. Our count of overlapping elements is then appended to no_overlaps for each combo\n",
    "for comb in combs:\n",
    "    s1 = set(comb)\n",
    "    s2 = set(labels_milk)\n",
    "    overlap = s1.intersection(s2)\n",
    "    no_overlaps.append(len(overlap))\n",
    "\n",
    "# Count the number of times each overlap occurs.\n",
    "counts = np.unique(no_overlaps, return_counts=True)"
   ]
  },
  {
   "cell_type": "markdown",
   "metadata": {},
   "source": [
    "Before we create the plot, We want to extract unique overlap. Lets print the frequencies of overlaps:"
   ]
  },
  {
   "cell_type": "code",
   "execution_count": 220,
   "metadata": {},
   "outputs": [
    {
     "name": "stdout",
     "output_type": "stream",
     "text": [
      "Overlaps and their frequencies:\n",
      "\n",
      "Overlap: 0, Frequency: 1\n",
      "Overlap: 1, Frequency: 36\n",
      "Overlap: 2, Frequency: 225\n",
      "Overlap: 3, Frequency: 400\n",
      "Overlap: 4, Frequency: 225\n",
      "Overlap: 5, Frequency: 36\n",
      "Overlap: 6, Frequency: 1\n"
     ]
    }
   ],
   "source": [
    "\n",
    "overlaps = counts[0]  \n",
    "frequencies = counts[1]  \n",
    "\n",
    "print(\"Overlaps and their frequencies:\")\n",
    "print()\n",
    "for overlap, frequency in zip(overlaps, frequencies):\n",
    "    print(f\"Overlap: {overlap}, Frequency: {frequency}\")\n"
   ]
  },
  {
   "cell_type": "code",
   "execution_count": 194,
   "metadata": {},
   "outputs": [
    {
     "data": {
      "image/png": "[encoded data removed]",
      "text/plain": [
       "<Figure size 600x400 with 1 Axes>"
      ]
     },
     "metadata": {},
     "output_type": "display_data"
    }
   ],
   "source": [
    "\n",
    "# Let's start our bar chart \n",
    "## Have changed the colour of the bars to pink\n",
    "fig, ax = plt.subplots(figsize=(6, 4))\n",
    "pink = '#FFC0CB'  \n",
    "ax.bar(counts[0], counts[1], color=pink)\n",
    "\n",
    "# Have added labels and our title\n",
    "ax.set_xlabel('Number of Overlaps')\n",
    "ax.set_ylabel('Frequency')\n",
    "ax.set_title('Overlap Frequency')\n",
    "\n",
    "# plt.show to display our chart\n",
    "plt.tight_layout()\n",
    "plt.show()\n"
   ]
  },
  {
   "cell_type": "markdown",
   "metadata": {},
   "source": [
    "##### 1.4 Probablity of making at least one error"
   ]
  },
  {
   "cell_type": "code",
   "execution_count": 195,
   "metadata": {},
   "outputs": [
    {
     "name": "stdout",
     "output_type": "stream",
     "text": [
      "The total number of combinations we have is 924\n",
      "\n",
      "The total number of combinations that involve just one error is 36\n",
      "\n",
      "Probability of selecting exactly one wrong cup: 0.04\n"
     ]
    }
   ],
   "source": [
    "# k is the number of correct cups i.e. with milk first, which is 6 in this case\n",
    "# n is the total number of cups available to choose from, so 12.\n",
    "\n",
    "# As calculated previously, our total possible combinations of selecting 6 cups out of 12\n",
    "totalcombos = math.comb(n, 6)\n",
    "print(\"The total number of combinations we have is\", totalcombos)\n",
    "print()\n",
    "\n",
    "# Calculate all the combinations that invlolve just 1  error\n",
    "oneerror = math.comb(k, 5) * math.comb(n - k, 1)\n",
    "print(\"The total number of combinations that involve just one error is\", oneerror)\n",
    "print()\n",
    "\n",
    "\n",
    "# To get the probability of getting one wrong cup, we will divide the ways of getting one error by the total number of combinations\n",
    "proboneerror = round(oneerror / totalcombos, 2)\n",
    "\n",
    "print(\"Probability of selecting exactly one wrong cup:\", proboneerror)\n",
    "\n",
    "\n"
   ]
  },
  {
   "cell_type": "markdown",
   "metadata": {},
   "source": [
    "##### 1 .5 Probability of getting two errors"
   ]
  },
  {
   "cell_type": "code",
   "execution_count": 196,
   "metadata": {},
   "outputs": [
    {
     "name": "stdout",
     "output_type": "stream",
     "text": [
      "The total number of combinations we have is 924\n",
      "\n",
      "The number of ways to get exactly two errors is: 225\n",
      "\n",
      "Probability of selecting two cups incorrectly (or 924/225 is): 0.24\n"
     ]
    }
   ],
   "source": [
    "\n",
    "## Number of cups\n",
    "n = 12\n",
    "k = 6  # Number of cups with milk\n",
    "\n",
    "totalcombos = math.comb(n, 6)\n",
    "print(\"The total number of combinations we have is\", totalcombos)\n",
    "print()\n",
    "\n",
    "## We now calculate the ways to get exactly two errors by plugging in the relevant figures\n",
    "twoerrors = math.comb(k, 4) * math.comb(n - k, 2)\n",
    "\n",
    "print(\"The number of ways to get exactly two errors is:\", twoerrors)\n",
    "print()\n",
    "\n",
    "\n",
    "## To get the probability of getting two errors, we will divide the ways of gettig two error by the total number of combos\n",
    "probtwoerrors = round(twoerrors / totalcombos, 2)\n",
    "\n",
    "print(\"Probability of selecting two cups incorrectly (or 924/225 is):\", probtwoerrors)\n",
    "\n"
   ]
  },
  {
   "cell_type": "markdown",
   "metadata": {},
   "source": [
    "Is this acceptable then?"
   ]
  },
  {
   "cell_type": "markdown",
   "metadata": {},
   "source": [
    "[1]: https://www.irishtimes.com/news/science/how-a-tea-tasting-test-led-to-a-breakthrough-in-statistics-1.3998786 \"Irish Times Article\"\n",
    "[2]: https://towardsdatascience.com/lady-tasting-tea-a-bayesian-approach-1b0b94ca1530 \"Towards Data Science - Bayesian Approach\"\n",
    "[3]: https://en.wikipedia.org/wiki/Combination \"Combination - Wikipedia\"\n",
    "\n",
    "### References\n",
    "\n",
    "1. [How a tea-tasting test led to a breakthrough in statistics - Irish Times][1]  \n",
    "2. [Lady Tasting Tea: A Bayesian Approach - Towards Data Science][2]  \n",
    "3. [The Combination Formula - Wikipedia][3]  \n",
    " \n"
   ]
  },
  {
   "cell_type": "markdown",
   "metadata": {},
   "source": [
    "\n",
    "#### Task 2: numpy's Normal Distribution\n",
    "\"In this task you will assess whether numpy.random.normal() properly generates normal values. To begin, generate a sample of one hundred thousand values using the function with mean 10.0 and standard deviation 3.0.\n",
    "\n",
    "Use the scipy.stats.shapiro() function to test whether your sample came from a normal distribution. Explain the results and output.\n",
    "\n",
    "Plot a histogram of your values and plot the corresponding normal distribution probability density function on top of it."
   ]
  },
  {
   "cell_type": "code",
   "execution_count": 197,
   "metadata": {},
   "outputs": [],
   "source": [
    "import numpy as np\n",
    "import matplotlib.pyplot as plt\n",
    "from scipy.stats import shapiro, norm, stats"
   ]
  },
  {
   "cell_type": "code",
   "execution_count": 198,
   "metadata": {},
   "outputs": [],
   "source": [
    "## We are asked to generate 100,000 values from a normal distribution with mean 10.0 and SD 3.0\n",
    "sample = np.random.normal(loc=10.0, scale=3.0, size=100000)"
   ]
  },
  {
   "cell_type": "code",
   "execution_count": 199,
   "metadata": {},
   "outputs": [
    {
     "name": "stdout",
     "output_type": "stream",
     "text": [
      "μ: 9.98\n",
      "σ 3.0 \n",
      "\n"
     ]
    }
   ],
   "source": [
    "## Calculate the mean and SD, rounded to two decimal places\n",
    "mean = round(np.mean(sample), 2)\n",
    "sd = round(np.std(sample), 2)\n",
    "\n",
    "# Display the mean and standard deviation, \n",
    "print(\"μ:\", mean)\n",
    "print(\"σ\", sd, \"\\n\")"
   ]
  },
  {
   "cell_type": "code",
   "execution_count": 200,
   "metadata": {},
   "outputs": [
    {
     "name": "stdout",
     "output_type": "stream",
     "text": [
      "The first five values in our sample are:\n",
      "\n",
      "10.36\n",
      "6.02\n",
      "8.0\n",
      "14.71\n",
      "16.13\n"
     ]
    }
   ],
   "source": [
    "## Display the first five values in the sample, rounded to two decimal places\n",
    "\n",
    "print(\"The first five values in our sample are:\" \"\\n\")\n",
    "for val in sample[:5]:\n",
    "    print(round(val, 2))"
   ]
  },
  {
   "cell_type": "code",
   "execution_count": 201,
   "metadata": {},
   "outputs": [
    {
     "name": "stdout",
     "output_type": "stream",
     "text": [
      "The Shapiro-Wilk Test Statistic is 1.0\n",
      "The associated p-value is 0.34\n"
     ]
    },
    {
     "name": "stderr",
     "output_type": "stream",
     "text": [
      "c:\\Users\\Administrator\\AppData\\Local\\Programs\\Python\\Python312\\Lib\\site-packages\\scipy\\stats\\_axis_nan_policy.py:573: UserWarning: scipy.stats.shapiro: For N > 5000, computed p-value may not be accurate. Current N is 100000.\n",
      "  res = hypotest_fun_out(*samples, **kwds)\n"
     ]
    }
   ],
   "source": [
    "# Let's run the Shapiro-Wilk test for normality\n",
    "# Documentation is at https://docs.scipy.org/doc/scipy/reference/generated/scipy.stats.shapiro.html\n",
    "\n",
    "shapiro_test = shapiro(sample)\n",
    "print(\"The Shapiro-Wilk Test Statistic is\", round(shapiro_test.statistic, 2))\n",
    "print(\"The associated p-value is\", round(shapiro_test.pvalue, 2))\n"
   ]
  },
  {
   "cell_type": "markdown",
   "metadata": {},
   "source": [
    "It should be noted that [the documentation](https://docs.scipy.org/doc/scipy/reference/generated/scipy.stats.shapiro.html) contains a caveat that when N is greater than 5000, the test statistic is accurate, but that the p-value may not be. \n",
    "\n",
    "\"If the p-value is “small” - that is, if there is a low probability of sampling data from a normally distributed population that produces such an extreme value of the statistic - this may be taken as evidence against the null hypothesis in favor of the alternative: the weights were not drawn from a normal distribution.\" (SciPy, n.d.) The threshold for values considered “small” should be decided before analyzing the data, with careful consideration of the risks of false positives (i.e. incorrectly rejecting the null hypothesis) and false negatives (failing to reject a false null hypothesis). For this analysis, I have chosen a significance level of 0.05.\n",
    "\n",
    "Since the p-value is .69, we don't have sufficient evidence to reject the null hypothesis. Our data suggests that the plot does not significantly deviate from a normal distribution. It's therefore reasonable to conclude that numpy.random.normal() function is likely producing normally distributed values as expected."
   ]
  },
  {
   "cell_type": "code",
   "execution_count": 202,
   "metadata": {},
   "outputs": [
    {
     "data": {
      "image/png": "[encoded data removed]",
      "text/plain": [
       "<Figure size 640x480 with 1 Axes>"
      ]
     },
     "metadata": {},
     "output_type": "display_data"
    }
   ],
   "source": [
    "# Adapted from https://www.geeksforgeeks.org/how-to-plot-normal-distribution-over-histogram-in-python/\n",
    "\n",
    "# Lets fit a normal distribution to the sample data\n",
    "mean, sd = norm.fit(sample) \n",
    "\n",
    "# Plot the histogram with 100 bins (rather than 50) for a smoother fit and set the colour to purple\n",
    "\n",
    "plt.hist(sample, bins=100, density=True, alpha=0.6, color='purple')\n",
    "\n",
    "# Then we plot the probability density function.\n",
    "xmin, xmax = plt.xlim()\n",
    "x = np.linspace(xmin, xmax, 100)\n",
    "p = norm.pdf(x, mean, sd)\n",
    "\n",
    "plt.plot(x, p, 'k', linewidth=2)\n",
    "\n",
    "# Added a title \n",
    "title = \"Fit Values: {:.2f} and {:.2f}\".format(mean, sd)\n",
    "title = (\n",
    "    \"Histogram and Fitted Normal Distribution\\n\"\n",
    "    \"Data Generated with np.random.normal (Mean = {:.2f}, SD = {:.2f})\\n\"\n",
    "    .format(mean, sd, mean, sd)\n",
    ")\n",
    "plt.title(title)\n",
    "\n",
    "plt.show()\n"
   ]
  },
  {
   "cell_type": "markdown",
   "metadata": {},
   "source": [
    "\n",
    "[1]: https://docs.scipy.org/doc/scipy/reference/generated/scipy.stats.shapiro.html\n",
    "\n",
    "### References\n",
    "\n",
    "\n",
    "1. [SciPy Documentation: \"scipy.stats.shapiro\" - SciPy][4]  "
   ]
  },
  {
   "cell_type": "markdown",
   "metadata": {},
   "source": [
    "#### Task 3: t-Test Calculation\n",
    "\n",
    "##### Problem statement\n",
    "\n",
    "Consider the following dataset containing resting heart rates for patients before and after embarking on a two-week exercise program.\n",
    "\n",
    "|          | 0  | 1  | 2  | 3  | 4  | 5  | 6  | 7  | 8  | 9  |\n",
    "|----------|----|----|----|----|----|----|----|----|----|----|\n",
    "| **Before**   | 63 | 68 | 70 | 64 | 74 | 67 | 70 | 57 | 66 | 65 |\n",
    "| **After**    | 64 | 64 | 68 | 64 | 73 | 70 | 72 | 54 | 61 | 63 |\n",
    "\n",
    "\n",
    "Calculate the t-statistic based on this data set, using Python. Compare it to the value given by scipy.stats. Explain your work and list any sources used."
   ]
  },
  {
   "cell_type": "markdown",
   "metadata": {},
   "source": [
    "#### Introduction\n",
    "We'll start by importing the relevant libraries\n"
   ]
  },
  {
   "cell_type": "code",
   "execution_count": 203,
   "metadata": {},
   "outputs": [],
   "source": [
    "\n",
    "import numpy as np\n",
    "import pandas as pd\n",
    "from scipy import stats\n",
    "import matplotlib.pyplot as plt"
   ]
  },
  {
   "cell_type": "markdown",
   "metadata": {},
   "source": [
    "Initially, I created two numpy arrays to explore the data. However, since I wanted to get descriptive statistics and create visualisations, I went with a pandas dataframe instead.  The dataframe contains the heart rates before and after the exercise programme."
   ]
  },
  {
   "cell_type": "code",
   "execution_count": 204,
   "metadata": {},
   "outputs": [
    {
     "name": "stdout",
     "output_type": "stream",
     "text": [
      "   Patient_ID  Before  After\n",
      "0           1      63     64\n",
      "1           2      68     64\n",
      "2           3      70     68\n",
      "3           4      64     64\n",
      "4           5      74     73\n",
      "5           6      67     70\n",
      "6           7      70     72\n",
      "7           8      57     54\n",
      "8           9      66     61\n",
      "9          10      65     63\n"
     ]
    }
   ],
   "source": [
    "# Lets create a pandas dataframe called heartrate so that we can manipulate the data. \n",
    "import pandas as pd\n",
    "\n",
    "# Data\n",
    "heartrate = {\n",
    "    'Patient_ID': range(1, 11),\n",
    "    'Before': [63, 68, 70, 64, 74, 67, 70, 57, 66, 65],\n",
    "    'After': [64, 64, 68, 64, 73, 70, 72, 54, 61, 63]\n",
    "}\n",
    "\n",
    "df = pd.DataFrame(heartrate)\n",
    "print(df)\n"
   ]
  },
  {
   "cell_type": "markdown",
   "metadata": {},
   "source": [
    "We'll use the [`.describe`](https://pandas.pydata.org/docs/reference/api/pandas.DataFrame.describe.html#pandas-dataframe-describe) function to get descriptive statistics for the 'Before' and 'After' conditions.\n"
   ]
  },
  {
   "cell_type": "code",
   "execution_count": 205,
   "metadata": {},
   "outputs": [
    {
     "name": "stdout",
     "output_type": "stream",
     "text": [
      "Descriptive Statistics - Before exercise programme:\n",
      " count    10.00000\n",
      "mean     66.40000\n",
      "std       4.64758\n",
      "min      57.00000\n",
      "25%      64.25000\n",
      "50%      66.50000\n",
      "75%      69.50000\n",
      "max      74.00000\n",
      "Name: Before, dtype: float64\n",
      "\n",
      "Descriptive Statistics - After exercise programme:\n",
      " count    10.000000\n",
      "mean     65.300000\n",
      "std       5.677441\n",
      "min      54.000000\n",
      "25%      63.250000\n",
      "50%      64.000000\n",
      "75%      69.500000\n",
      "max      73.000000\n",
      "Name: After, dtype: float64\n"
     ]
    }
   ],
   "source": [
    "\n",
    "before = df['Before'].describe()\n",
    "after = df['After'].describe()\n",
    "\n",
    "print(\"Descriptive Statistics - Before exercise programme:\\n\", before)\n",
    "print(\"\\nDescriptive Statistics - After exercise programme:\\n\", after)\n"
   ]
  },
  {
   "cell_type": "markdown",
   "metadata": {},
   "source": [
    "Before we carry our t-tests, it's important to check that our data is approximately normally distributed. If the data isn't normally distributed, then it's not appropriate to carry out parametric tests such as the paired t-test. I'll create a histrogram of the before exercise condition of the after exercise condition and then one of them overlapping."
   ]
  },
  {
   "cell_type": "code",
   "execution_count": 206,
   "metadata": {},
   "outputs": [
    {
     "data": {
      "image/png": "[encoded data removed]",
      "text/plain": [
       "<Figure size 1000x500 with 1 Axes>"
      ]
     },
     "metadata": {},
     "output_type": "display_data"
    },
    {
     "data": {
      "image/png": "[encoded data removed]",
      "text/plain": [
       "<Figure size 1000x500 with 1 Axes>"
      ]
     },
     "metadata": {},
     "output_type": "display_data"
    },
    {
     "data": {
      "image/png": "[encoded data removed]",
      "text/plain": [
       "<Figure size 1000x500 with 1 Axes>"
      ]
     },
     "metadata": {},
     "output_type": "display_data"
    }
   ],
   "source": [
    "# Before\n",
    "fig, ax = plt.subplots(figsize=(10, 5))\n",
    "ax.hist(before, bins=range(55, 80, 5), color='pink', alpha=0.5, label='Before')\n",
    "ax.set_xlabel(\"Heart Rate\")\n",
    "ax.set_ylabel(\"Frequency\")\n",
    "ax.set_title(\"Heart Rate Distribution - Before\")\n",
    "ax.legend()\n",
    "plt.show()\n",
    "\n",
    "# After\n",
    "fig, ax = plt.subplots(figsize=(10, 5))\n",
    "ax.hist(after, bins=range(55, 80, 5), color='purple', alpha=0.5, label='After')\n",
    "ax.set_xlabel(\"Heart Rate\")\n",
    "ax.set_ylabel(\"Frequency\")\n",
    "ax.set_title(\"Heart Rate Distribution - After \")\n",
    "ax.legend()\n",
    "plt.show()\n",
    "\n",
    "# Overlapping\n",
    "fig, ax = plt.subplots(figsize=(10, 5))\n",
    "ax.hist(before, bins=range(55, 80, 5), color='pink', alpha=0.5, label='Before')\n",
    "ax.hist(after, bins=range(55, 80, 5), color='purple', alpha=0.5, label='After')\n",
    "ax.set_xlabel(\"Heart Rate\")\n",
    "ax.set_ylabel(\"Frequency\")\n",
    "ax.set_title(\"Heart Rate Distribution Before and After\")\n",
    "ax.legend()\n",
    "plt.show()\n"
   ]
  },
  {
   "cell_type": "markdown",
   "metadata": {},
   "source": []
  },
  {
   "cell_type": "markdown",
   "metadata": {},
   "source": [
    "#### Calculation in python\n",
    "Now we need to calculate the t-statistic. Since the experimental design involves collecting two values for each individual, one before and one after the exercise programme, it is appropriate to use a paired t-test. The steps for calculating the test are outlined [here](https://www.statisticssolutions.com/free-resources/directory-of-statistical-analyses/paired-sample-t-test/). One has to:\n",
    "\n",
    "1. Calculate the mean difference (d̄) of the sample.\n",
    "\n",
    "\\[\n",
    "$\\bar{d} = \\frac{d_1 + d_2 + \\dots + d_n}{n}$\n",
    "\\]\n",
    "\n",
    "2. Calculate the standard deviation of the sample.\n",
    "\n",
    "$\\hat{\\sigma} = \\sqrt{\\frac{(d_1 - \\bar{d})^2 + (d_2 - \\bar{d})^2 + \\dots + (d_n - \\bar{d})^2}{n - 1}}$\n",
    "\n",
    "3. Plug in these values and calculate the test statistic.\n",
    "\n",
    "$t = \\frac{\\bar{d} - 0}{\\hat{\\sigma} / \\sqrt{n}}$\n",
    "\n",
    "4. Determine the likelihood of observing the test statistic if the null hypothesis were true."
   ]
  },
  {
   "cell_type": "code",
   "execution_count": 207,
   "metadata": {},
   "outputs": [
    {
     "name": "stdout",
     "output_type": "stream",
     "text": [
      "Mean difference (d̄): -1.1\n"
     ]
    }
   ],
   "source": [
    "\n",
    "# Step 1\n",
    "df['Difference'] = df['After'] - df['Before']\n",
    "mean_diff = df['Difference'].mean()\n",
    "\n",
    "print(\"Mean difference (d̄):\", mean_diff)"
   ]
  },
  {
   "cell_type": "code",
   "execution_count": 208,
   "metadata": {},
   "outputs": [
    {
     "name": "stdout",
     "output_type": "stream",
     "text": [
      "Standard deviation of the sample (σ̂): 2.6\n"
     ]
    }
   ],
   "source": [
    "# Step 2\n",
    "squared_devs= (df['Difference'] - mean_diff) ** 2\n",
    "sum_squared_devs = squared_devs.sum()\n",
    "n = len(df) \n",
    "var_diff = sum_squared_devs / (n - 1)\n",
    "std_diff = round(np.sqrt(var_diff), 2)\n",
    "\n",
    "print(\"Standard deviation of the sample (σ̂):\", std_diff)"
   ]
  },
  {
   "cell_type": "code",
   "execution_count": 209,
   "metadata": {},
   "outputs": [
    {
     "name": "stdout",
     "output_type": "stream",
     "text": [
      "T-statistic (t): -1.34\n"
     ]
    }
   ],
   "source": [
    "# Step 3\n",
    "t_stat = round(mean_diff / (std_diff / np.sqrt(n)), 2)\n",
    "print(\"T-statistic (t):\", t_stat)"
   ]
  },
  {
   "cell_type": "markdown",
   "metadata": {},
   "source": [
    "The t-statistic is -1.34. Now, we can see how this compares to the result when we use scipy."
   ]
  },
  {
   "cell_type": "code",
   "execution_count": 210,
   "metadata": {},
   "outputs": [
    {
     "name": "stdout",
     "output_type": "stream",
     "text": [
      "t-statistic (scipy): -1.34\n",
      "p-value (scipy): 0.214\n"
     ]
    }
   ],
   "source": [
    "t_stat2, p_value_scipy = stats.ttest_rel(df['After'], df['Before'])\n",
    "\n",
    "# Display the results\n",
    "print(\"t-statistic (scipy):\", round(t_stat2, 2))\n",
    "print(\"p-value (scipy):\", round(p_value_scipy, 4))\n"
   ]
  },
  {
   "cell_type": "markdown",
   "metadata": {},
   "source": [
    "#### Task 4: ANOVA\n",
    "#### Problem Statement\n",
    "\n",
    "In this test we will estimate the probability of committing a type II error in specific circumstances. To begin, create a variable called ``no_type_ii` and set it to 0.\n",
    "\n",
    "Now use a loop to perform the following test 10,000 times.\n",
    "\n",
    "Use `numpy.random.normal` to generate three samples with 100 values each. Give each a standard deviation of `0.1`. Give the first sample a mean of `4.9`, the second a mean of `5.0`, and the third a mean of `5.1`.\n",
    "\n",
    "Perform one-way anova on the three samples and add `1` to `no_type_ii` whenever a type II error occurs.\n",
    "\n",
    "Summarize and explain your results."
   ]
  },
  {
   "cell_type": "markdown",
   "metadata": {},
   "source": []
  },
  {
   "cell_type": "markdown",
   "metadata": {},
   "source": [
    "[1]: https://www.irishtimes.com/news/science/how-a-tea-tasting-test-led-to-a-breakthrough-in-statistics-1.3998786 \"Irish Times Article\"\n",
    "[2]: https://towardsdatascience.com/lady-tasting-tea-a-bayesian-approach-1b0b94ca1530 \"Towards Data Science - Bayesian Approach\"\n",
    "[3]: https://en.wikipedia.org/wiki/Combination \"Combination - Wikipedia\"\n",
    "[4]: https://docs.scipy.org/doc/scipy/reference/generated/scipy.stats.shapiro.html\n",
    "\n",
    "### References\n",
    "\n",
    "1. [How a tea-tasting test led to a breakthrough in statistics - Irish Times][1]  \n",
    "2. [Lady Tasting Tea: A Bayesian Approach - Towards Data Science][2]  \n",
    "3. [The Combination Formula - Wikipedia][3]  \n",
    "4. [SciPy Documentation: \"scipy.stats.shapiro\" - SciPy][4]  \n",
    "\n"
   ]
  },
  {
   "cell_type": "markdown",
   "metadata": {},
   "source": []
  }
 ],
 "metadata": {
  "kernelspec": {
   "display_name": "Python 3",
   "language": "python",
   "name": "python3"
  },
  "language_info": {
   "codemirror_mode": {
    "name": "ipython",
    "version": 3
   },
   "file_extension": ".py",
   "mimetype": "text/x-python",
   "name": "python",
   "nbconvert_exporter": "python",
   "pygments_lexer": "ipython3",
   "version": "3.12.7"
  }
 },
 "nbformat": 4,
 "nbformat_minor": 2
}
