{
 "cells": [
  {
   "cell_type": "markdown",
   "metadata": {},
   "source": [
    "## The Lady Tasting Tea Experiment\n",
    "\n",
    "Suppose we alter the Lady Tasting Tea experiment to involve twelve cups of tea. Six have the milk in first and the other six have tea in first. A person claims they have the special power of being able to tell whether the tea or the milk went into a cup first upon tasting it. You agree to accept their claim if they can tell which of the six cups in your experiment had the milk in first.\n",
    "\n",
    "Calculate, using Python, the probability that they select the correct six cups. Here you should assume that they have no special powers in figuring it out, and that they are just guessing. Remember to show and justify your workings in both code and Markdown cells.\n",
    "\n",
    "Suppose now that you are willing to accept one error. Once they select the six cups they think had the milk in first, you will give them the benefit of the doubt if they have selected at least five of the correct cups. Calculate the probability, assuming they have no special powers, that the person makes **at most one error**.\n",
    "\n",
    "Would you accept two errors? Explain your reasoning.\n"
   ]
  },
  {
   "cell_type": "markdown",
   "metadata": {},
   "source": []
  },
  {
   "cell_type": "markdown",
   "metadata": {},
   "source": [
    "\n",
    "![Lady Tasting Tea](https://github.com/miriamroddy/appliedstatistics/blob/main/ladytastingtea.PNG)\n",
    "\n",
    "Over a century ago, an Englishwoman caused a bit of a stir when she was able to demonstrate to several prominent statisticians her ability to discern, through taste alone, whether milk or tea has been initually poured into a cup.\n",
    "\n",
    "Whilst Ronald Fisher was working at Rothamsted Research Station in 1919, he offered a cup of tea to Dr. Muriel Bristol. She politely declined, explaining that she preferred the milk to be poured into the cup first. Young Fisher dismissed her request, insisting that the order in which milk was added couldn’t possibly affect the taste. Bristol stood by her claim, however, asserting that she could always tell the difference. William Roach, her future husband,  overheard the conversation and suggested that she be tested.\n",
    "\n",
    "In the original experiment, the test subject is presented with eight cups of tea in a random order — four made by adding milk first and four made by adding tea first. The subject's task is to identify which four cups were prepared using one of these methods. They are allowed to compare the cups directly with one another if they wish. The procedure of the experiment is completely explained to the subject beforehand."
   ]
  },
  {
   "cell_type": "markdown",
   "metadata": {},
   "source": [
    "[1]: https://www.irishtimes.com/news/science/how-a-tea-tasting-test-led-to-a-breakthrough-in-statistics-1.3998786 \"Irish Times Article\"\n",
    "\n",
    "## References\n",
    "\n",
    "1. [How a tea-tasting test led to a breakthrough in statistics - Irish Times][1]\n",
    "\n"
   ]
  }
 ],
 "metadata": {
  "kernelspec": {
   "display_name": "Python 3",
   "language": "python",
   "name": "python3"
  },
  "language_info": {
   "codemirror_mode": {
    "name": "ipython",
    "version": 3
   },
   "file_extension": ".py",
   "mimetype": "text/x-python",
   "name": "python",
   "nbconvert_exporter": "python",
   "pygments_lexer": "ipython3",
   "version": "3.12.7"
  }
 },
 "nbformat": 4,
 "nbformat_minor": 2
}
