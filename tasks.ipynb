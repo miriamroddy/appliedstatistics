{
 "cells": [
  {
   "cell_type": "markdown",
   "metadata": {},
   "source": [
    "#### Task 1 - Permutations and Combinations\n",
    "\n",
    "Suppose we alter the Lady Tasting Tea experiment to involve twelve cups of tea. Six have the milk in first and the other six have tea in first. A person claims they have the special power of being able to tell whether the tea or the milk went into a cup first upon tasting it. You agree to accept their claim if they can tell which of the six cups in your experiment had the milk in first.\n",
    "\n",
    "Calculate, using Python, the probability that they select the correct six cups. Here you should assume that they have no special powers in figuring it out, and that they are just guessing. Remember to show and justify your workings in both code and Markdown cells.\n",
    "\n",
    "Suppose now that you are willing to accept one error. Once they select the six cups they think had the milk in first, you will give them the benefit of the doubt if they have selected at least five of the correct cups. Calculate the probability, assuming they have no special powers, that the person makes **at most one error**.\n",
    "\n",
    "Would you accept two errors? Explain your reasoning.\n"
   ]
  },
  {
   "cell_type": "markdown",
   "metadata": {},
   "source": [
    "#### The Lady Tasting Tea\n",
    "![Lady Tasting Tea](images/ladytastingtea.PNG)\n",
    "\n",
    "Over a century ago, an Englishwoman caused a bit of a stir when she was able to demonstrate to several prominent statisticians her ability to discern, through taste alone, whether milk or tea has been initually poured into a cup.\n",
    "\n",
    "Whilst Ronald Fisher was working at Rothamsted Research Station in 1919, he offered a cup of tea to Dr. Muriel Bristol. She politely declined, explaining that she preferred the milk to be poured into the cup first. Young Fisher dismissed her request, insisting that the order in which milk was added couldn’t possibly affect the taste. Bristol stood by her claim, however, asserting that she could always tell the difference. William Roach, her future husband,  overheard the conversation and suggested that she be tested.\n",
    "\n",
    "In the original experiment, the test subject is presented with eight cups of tea in a random order — four made by adding milk first and four made by adding tea first. The subject's task is to identify which four cups were prepared using one of these methods. They are allowed to compare the cups directly with one another if they wish. The procedure of the experiment is completely explained to the subject beforehand.\n",
    "\n"
   ]
  },
  {
   "cell_type": "markdown",
   "metadata": {},
   "source": [
    "### Using the Combination Formula\n",
    "\n",
    "It's important to emphasise that we're using *combinations rather than permutations* here since the order in which the cups are chosen doesn't matter. As we are selecting 4 cups with milk first from 8 cups, we care only about which cups are selected, rather than the sequence in which they are chosen. Combinations are used when the arrangement of the selected items is irrelevant, while permutations consider the order, which is not relevant in this case.\n",
    "\n",
    "We therefore use the [combination formula](https://en.wikipedia.org/wiki/Combination) to calculate the number of ways to select a smaller set of cups from a larger set. The formula is used to calculate how many ways we can choose **k** items from a total of **n** items, and it is given by:\n",
    "\n",
    "<br>\n",
    "\n",
    "![Binomial formula](https://latex.codecogs.com/png.latex?%5Cbinom%7Bn%7D%7Bk%7D%20%3D%20%5Cfrac%7Bn!%7D%7Bk!(n-k)!%7D)\n",
    "\n",
    "<br>\n",
    "\n",
    "Where:\n",
    "\n",
    "- **n!** (n factorial) is the product of all positive integers up to \\( n \\),\n",
    "- **k!** is the product of all positive integers up to \\( k \\),\n",
    "- **(n-k)!** is the product of all positive integers up to \\( (n - k) \\).\n",
    "\n",
    "\n"
   ]
  },
  {
   "cell_type": "markdown",
   "metadata": {},
   "source": [
    "The method for calculating this in Python's standard library is [math.comb](https://www.w3schools.com/python/ref_math_comb.asp).\n",
    "Before we write more code, we can satisfy ourselves of the numbers mathematically by plugging in the figures:\n",
    "\n",
    "**8! (factorial of 8)** is:\n",
    "\n",
    "8 × 7 × 6 × 5 × 4 × 3 × 2 × 1 = 40,320\n",
    "\n",
    "**4! (factorial of 4)** is:\n",
    "\n",
    "4 × 3 × 2 × 1 = 24\n",
    "\n",
    "(8 − 4)! is equal 4!:\n",
    "\n",
    "4 × 3 × 2 × 1 = 24\n",
    "\n",
    "The number of combinations is:\n",
    "\n",
    "40,320 / (24 × 24) = 40,320 / 576 = 70\n",
    "\n",
    "\n"
   ]
  },
  {
   "cell_type": "markdown",
   "metadata": {},
   "source": [
    "In this task, we are asked to imagine that _twelve rather than eight_ cups of tea are presented to the Lady. Lets now plug in our updated figures:\n",
    "\n",
    "**12! (factorial of 12)** is:\n",
    "\n",
    "12 × 11 × 10 × 9 × 8 × 7 × 6 × 5 × 4 × 3 × 2 × 1 = 479,001,600\n",
    "\n",
    "**6! (factorial of 6)** is:\n",
    "\n",
    "6 × 5 × 4 × 3 × 2 × 1 = 720\n",
    "\n",
    "(12 − 6)! is 6!:\n",
    "\n",
    "6 × 5 × 4 × 3 × 2 × 1 = 720\n",
    "\n",
    "The number of combinations is now:\n",
    "\n",
    "479,001,600 / (720 × 720) = 479,001,600 / 518,400 = 924\n"
   ]
  },
  {
   "cell_type": "code",
   "execution_count": 72,
   "metadata": {},
   "outputs": [
    {
     "name": "stdout",
     "output_type": "stream",
     "text": [
      "In Fisher's experiment, the number of ways to choose 4 milk-before-tea from 8 cups is: 70\n"
     ]
    }
   ],
   "source": [
    "import math\n",
    "import itertools\n",
    "\n",
    "## Adapted from https://github.com/ianmcloughlin/2425_applied_statistics/blob/main/02_lady_tasting_tea.ipynb\n",
    "\n",
    "# Define our variables\n",
    "n = 8  # Total number of cups\n",
    "k = 4  # Number of cups with milk in first\n",
    "\n",
    "# Calculate the number of combinations\n",
    "combination = math.factorial(n) // (math.factorial(k) * math.factorial(n - k))\n",
    "\n",
    "print(f\"In Fisher's experiment, the number of ways to choose {k} milk-before-tea from {n} cups is: {combination}\")\n"
   ]
  },
  {
   "cell_type": "code",
   "execution_count": 73,
   "metadata": {},
   "outputs": [
    {
     "name": "stdout",
     "output_type": "stream",
     "text": [
      "In our version of the experiment, the number of ways to choose 6 milk-before-tea cups from 12 cups is: 924\n"
     ]
    }
   ],
   "source": [
    "# Defining variables\n",
    "n = 12  # Total number of cups\n",
    "k = 6  # Number of cups with milk in first\n",
    "\n",
    "# Calculate the number of combinations\n",
    "combination = math.factorial(n) // (math.factorial(k) * math.factorial(n - k))\n",
    "\n",
    "print(f\"In our version of the experiment, the number of ways to choose {k} milk-before-tea cups from {n} cups is: {combination}\")\n"
   ]
  },
  {
   "cell_type": "markdown",
   "metadata": {},
   "source": [
    "Below is a slightly abridged version of the code from lecture 4, amended to reflect that we are now dealing with six cups rather than four."
   ]
  },
  {
   "cell_type": "code",
   "execution_count": 74,
   "metadata": {},
   "outputs": [],
   "source": [
    "## Code adapted from https://github.com/ianmcloughlin/2425_applied_statistics/blob/main/02_lady_tasting_tea.ipynb\n",
    "\n",
    "import itertools\n",
    "import random\n",
    "import numpy as np\n",
    "import math\n",
    "\n",
    "no_cups = 12\n",
    "no_cups_milk_first = 6\n",
    "\n",
    "\n",
    "# The cup labels.\n",
    "labels = list(range(no_cups))\n",
    "combs = list(itertools.combinations(labels, no_cups_milk_first))\n",
    "\n",
    "# Select six cups at random to put milk in first, sort the labels and then turn labels_milks to a set\n",
    "labels_milk = random.sample(labels, 6)\n",
    "labels_milk.sort()\n",
    "set(labels_milk)\n",
    "\n",
    "# Calculate the overlap between each element of combs and labels_milk.\n",
    "no_overlaps = []\n",
    "\n",
    "## This for loop iteraates through each combination, converts it & labels_milk into sets and finds the intersection/common elements \n",
    "## between them. Our count of overlapping elements is then appended to no_overlaps for each combo\n",
    "for comb in combs:\n",
    "    s1 = set(comb)\n",
    "    s2 = set(labels_milk)\n",
    "    overlap = s1.intersection(s2)\n",
    "    no_overlaps.append(len(overlap))\n",
    "\n",
    "# Count the number of times each overlap occurs.\n",
    "counts = np.unique(no_overlaps, return_counts=True)"
   ]
  },
  {
   "cell_type": "code",
   "execution_count": 75,
   "metadata": {},
   "outputs": [
    {
     "data": {
      "image/png": "[encoded data removed]",
      "text/plain": [
       "<Figure size 600x400 with 1 Axes>"
      ]
     },
     "metadata": {},
     "output_type": "display_data"
    }
   ],
   "source": [
    "# Import matplotlib's pyplot module\n",
    "import matplotlib.pyplot as plt\n",
    "\n",
    "# Let's start our bar chart \n",
    "## Have changed the colour of the bars to pink\n",
    "fig, ax = plt.subplots(figsize=(6, 4))\n",
    "pink = '#FFC0CB'  \n",
    "ax.bar(counts[0], counts[1], color=pink)\n",
    "\n",
    "# Have added labels and our title\n",
    "ax.set_xlabel('Number of Overlaps')\n",
    "ax.set_ylabel('Frequency')\n",
    "ax.set_title('Overlap Frequency')\n",
    "\n",
    "# plt.show to display our chart\n",
    "plt.tight_layout()\n",
    "plt.show()\n"
   ]
  },
  {
   "cell_type": "code",
   "execution_count": 76,
   "metadata": {},
   "outputs": [
    {
     "name": "stdout",
     "output_type": "stream",
     "text": [
      "The total number of combinations we have is 924\n",
      "\n",
      "The total number of combinations that involve just one error is 36\n",
      "\n",
      "Probability of selecting exactly one wrong cup: 0.04\n"
     ]
    }
   ],
   "source": [
    "import math\n",
    "\n",
    "# k is the number of correct cups i.e. with milk first, which is 6 in this case\n",
    "# n is the total number of cups available to choose from, so 12.\n",
    "\n",
    "# As calculated previously, our total possible combinations of selecting 6 cups out of 12\n",
    "totalcombos = math.comb(n, 6)\n",
    "print(\"The total number of combinations we have is\", totalcombos)\n",
    "print()\n",
    "\n",
    "# Calculate all the combinations that invlolve just 1  error\n",
    "oneerror = math.comb(k, 5) * math.comb(n - k, 1)\n",
    "print(\"The total number of combinations that involve just one error is\", oneerror)\n",
    "print()\n",
    "\n",
    "\n",
    "# To get the probability of getting one wrong cup, we will divide the ways of getting one error by the total number of combinations\n",
    "proboneerror = round(oneerror / totalcombos, 2)\n",
    "\n",
    "print(\"Probability of selecting exactly one wrong cup:\", proboneerror)\n",
    "\n",
    "\n"
   ]
  },
  {
   "cell_type": "code",
   "execution_count": 77,
   "metadata": {},
   "outputs": [
    {
     "name": "stdout",
     "output_type": "stream",
     "text": [
      "The total number of combinations we have is 924\n",
      "\n",
      "The number of ways to get exactly two errors is: 225\n",
      "\n",
      "Probability of selecting two cups incorrectly (or 924/225 is): 0.24\n"
     ]
    }
   ],
   "source": [
    "import math\n",
    "\n",
    "## Number of cups\n",
    "n = 12\n",
    "k = 6  # Number of cups with milk\n",
    "\n",
    "totalcombos = math.comb(n, 6)\n",
    "print(\"The total number of combinations we have is\", totalcombos)\n",
    "print()\n",
    "\n",
    "## We now calculate the ways to get exactly two errors by plugging in the relevant figures\n",
    "twoerrors = math.comb(k, 4) * math.comb(n - k, 2)\n",
    "\n",
    "print(\"The number of ways to get exactly two errors is:\", twoerrors)\n",
    "print()\n",
    "\n",
    "\n",
    "## To get the probability of getting two errors, we will divide the ways of gettig two error by the total number of combos\n",
    "probtwoerrors = round(twoerrors / totalcombos, 2)\n",
    "\n",
    "print(\"Probability of selecting two cups incorrectly (or 924/225 is):\", probtwoerrors)\n",
    "\n"
   ]
  },
  {
   "cell_type": "markdown",
   "metadata": {},
   "source": []
  },
  {
   "cell_type": "markdown",
   "metadata": {},
   "source": [
    "\n",
    "#### Task 2: numpy's Normal Distribution\n",
    "\"In this task you will assess whether numpy.random.normal() properly generates normal values. To begin, generate a sample of one hundred thousand values using the function with mean 10.0 and standard deviation 3.0.\n",
    "\n",
    "Use the scipy.stats.shapiro() function to test whether your sample came from a normal distribution. Explain the results and output.\n",
    "\n",
    "Plot a histogram of your values and plot the corresponding normal distribution probability density function on top of it.\""
   ]
  },
  {
   "cell_type": "code",
   "execution_count": 78,
   "metadata": {},
   "outputs": [
    {
     "name": "stdout",
     "output_type": "stream",
     "text": [
      "μ: 10.01\n",
      "σ 2.99 \n",
      "\n",
      "The first five values in our sample are:\n",
      "\n",
      "8.36\n",
      "12.56\n",
      "8.9\n",
      "10.46\n",
      "7.63\n"
     ]
    }
   ],
   "source": [
    "import numpy as np\n",
    "\n",
    "## We are asked to generate 100,000 values from a normal distribution with mean 10.0 and SD 3.0\n",
    "sample = np.random.normal(loc=10.0, scale=3.0, size=100000)\n",
    "\n",
    "## Calculate the mean and SD, rounded to two decimal places\n",
    "mean = round(np.mean(sample), 2)\n",
    "sd = round(np.std(sample), 2)\n",
    "\n",
    "## Display the mean, standard deviation, and the first five values in the sample, rounded to two decimal places\n",
    "print(\"μ:\", mean)\n",
    "print(\"σ\", sd, \"\\n\")\n",
    "print(\"The first five values in our sample are:\" \"\\n\")\n",
    "for val in sample[:5]:\n",
    "    print(round(val, 2))"
   ]
  },
  {
   "cell_type": "code",
   "execution_count": 79,
   "metadata": {},
   "outputs": [
    {
     "name": "stdout",
     "output_type": "stream",
     "text": [
      "The Shapiro-Wilk Test Statistic is 1.0\n",
      "The associated p-value is 0.82\n"
     ]
    }
   ],
   "source": [
    "import scipy.stats as stats\n",
    "\n",
    "## Let's run the Shapiro-Wilk test for normality\n",
    "## Ducumentation is ast https://docs.scipy.org/doc/scipy/reference/generated/scipy.stats.shapiro.html\n",
    "\n",
    "shapiro_test = stats.shapiro(sample)\n",
    "print(\"The Shapiro-Wilk Test Statistic is\", round(shapiro_test.statistic, 2))\n",
    "print(\"The associated p-value is\", round(shapiro_test.pvalue, 2))\n"
   ]
  },
  {
   "cell_type": "markdown",
   "metadata": {},
   "source": [
    "[The documentation](https://docs.scipy.org/doc/scipy/reference/generated/scipy.stats.shapiro.html) notes that when N is greater than 5000, the test statistic is accurate, but that the p-value may not be."
   ]
  },
  {
   "cell_type": "code",
   "execution_count": null,
   "metadata": {},
   "outputs": [],
   "source": [
    "\n"
   ]
  },
  {
   "cell_type": "markdown",
   "metadata": {},
   "source": [
    "#### Task 3: t-Test Calculation"
   ]
  },
  {
   "cell_type": "markdown",
   "metadata": {},
   "source": [
    "Consider the following dataset containing resting heart rates for patients before and after embarking on a two-week exercise program.\n",
    "\n",
    "|          | 0  | 1  | 2  | 3  | 4  | 5  | 6  | 7  | 8  | 9  |\n",
    "|----------|----|----|----|----|----|----|----|----|----|----|\n",
    "| **Before**   | 63 | 68 | 70 | 64 | 74 | 67 | 70 | 57 | 66 | 65 |\n",
    "| **After**    | 64 | 64 | 68 | 64 | 73 | 70 | 72 | 54 | 61 | 63 |\n",
    "\n",
    "\n",
    "Calculate the t-statistic based on this data set, using Python. Compare it to the value given by scipy.stats. Explain your work and list any sources used."
   ]
  },
  {
   "cell_type": "markdown",
   "metadata": {},
   "source": [
    "We'll start by importing the relevant libraries\n"
   ]
  },
  {
   "cell_type": "code",
   "execution_count": 80,
   "metadata": {},
   "outputs": [],
   "source": [
    "\n",
    "import numpy as np\n",
    "from scipy import stats"
   ]
  },
  {
   "cell_type": "markdown",
   "metadata": {},
   "source": [
    "Lets create two numpy arrays; these will contain the heart rates before and after the exercise regimen"
   ]
  },
  {
   "cell_type": "code",
   "execution_count": 81,
   "metadata": {},
   "outputs": [
    {
     "name": "stdout",
     "output_type": "stream",
     "text": [
      "'Before' array: [63 68 70 64 74 67 70 57 66 65]\n",
      "Shape of 'before': (10,)\n",
      "\n",
      "'After' array: [64 64 68 64 73 70 72 54 61 63]\n",
      "Shape of 'after': (10,)\n"
     ]
    }
   ],
   "source": [
    "# Lets create two numpy arrays; these will contain the heart rates before and after the exercise regimen\n",
    "\n",
    "before = np.array([63, 68, 70, 64, 74, 67, 70, 57, 66, 65])\n",
    "after = np.array([64, 64, 68, 64, 73, 70, 72, 54, 61, 63])\n",
    "\n",
    "print(\"'Before' array:\", before)\n",
    "print(\"Shape of 'before':\", before.shape)\n",
    "print()\n",
    "print(\"'After' array:\", after)\n",
    "print(\"Shape of 'after':\", after.shape)"
   ]
  },
  {
   "cell_type": "markdown",
   "metadata": {},
   "source": []
  },
  {
   "cell_type": "markdown",
   "metadata": {},
   "source": [
    "#### Task 4: ANOVA\n"
   ]
  },
  {
   "cell_type": "markdown",
   "metadata": {},
   "source": [
    "[1]: https://www.irishtimes.com/news/science/how-a-tea-tasting-test-led-to-a-breakthrough-in-statistics-1.3998786 \"Irish Times Article\"\n",
    "[2]: https://towardsdatascience.com/lady-tasting-tea-a-bayesian-approach-1b0b94ca1530 \"Towards Data Science - Bayesian Approach\"\n",
    "[3]: https://en.wikipedia.org/wiki/Combination \"Combination - Wikipedia\"\n",
    "\n",
    "## References\n",
    "\n",
    "1. [How a tea-tasting test led to a breakthrough in statistics - Irish Times][1]\n",
    "2. [Lady Tasting Tea: A Bayesian Approach - Towards Data Science][2]\n",
    "3. [The Combination Formula - Wikipedia][3]\n"
   ]
  }
 ],
 "metadata": {
  "kernelspec": {
   "display_name": "Python 3",
   "language": "python",
   "name": "python3"
  },
  "language_info": {
   "codemirror_mode": {
    "name": "ipython",
    "version": 3
   },
   "file_extension": ".py",
   "mimetype": "text/x-python",
   "name": "python",
   "nbconvert_exporter": "python",
   "pygments_lexer": "ipython3",
   "version": "3.12.7"
  }
 },
 "nbformat": 4,
 "nbformat_minor": 2
}
