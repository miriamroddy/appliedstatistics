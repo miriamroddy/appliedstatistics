{
 "cells": [
  {
   "cell_type": "markdown",
   "metadata": {},
   "source": [
    "#### Task 1 - Permutations and Combinations\n",
    "\n",
    "Suppose we alter the Lady Tasting Tea experiment to involve twelve cups of tea. Six have the milk in first and the other six have tea in first. A person claims they have the special power of being able to tell whether the tea or the milk went into a cup first upon tasting it. You agree to accept their claim if they can tell which of the six cups in your experiment had the milk in first.\n",
    "\n",
    "Calculate, using Python, the probability that they select the correct six cups. Here you should assume that they have no special powers in figuring it out, and that they are just guessing. Remember to show and justify your workings in both code and Markdown cells.\n",
    "\n",
    "Suppose now that you are willing to accept one error. Once they select the six cups they think had the milk in first, you will give them the benefit of the doubt if they have selected at least five of the correct cups. Calculate the probability, assuming they have no special powers, that the person makes **at most one error**.\n",
    "\n",
    "Would you accept two errors? Explain your reasoning.\n"
   ]
  },
  {
   "cell_type": "markdown",
   "metadata": {},
   "source": [
    "#### The Lady Tasting Tea\n",
    "![Lady Tasting Tea](images/ladytastingtea.PNG)\n",
    "\n",
    "Over a century ago, an Englishwoman caused a bit of a stir when she was able to demonstrate to several prominent statisticians her ability to discern, through taste alone, whether milk or tea has been initually poured into a cup.\n",
    "\n",
    "Whilst Ronald Fisher was working at Rothamsted Research Station in 1919, he offered a cup of tea to Dr. Muriel Bristol. She politely declined, explaining that she preferred the milk to be poured into the cup first. Young Fisher dismissed her request, insisting that the order in which milk was added couldn’t possibly affect the taste. Bristol stood by her claim, however, asserting that she could always tell the difference. William Roach, her future husband,  overheard the conversation and suggested that she be tested.\n",
    "\n",
    "In the original experiment, the test subject is presented with eight cups of tea in a random order — four made by adding milk first and four made by adding tea first. The subject's task is to identify which four cups were prepared using one of these methods. They are allowed to compare the cups directly with one another if they wish. The procedure of the experiment is completely explained to the subject beforehand.\n",
    "\n"
   ]
  },
  {
   "cell_type": "markdown",
   "metadata": {},
   "source": [
    "### Using the Combination Formula\n",
    "\n",
    "It's important to emphasise that we're using *combinations rather than permutations* here since the order in which the cups are chosen doesn't matter. As we are selecting 4 cups with milk first from 8 cups, we care only about which cups are selected, rather than the sequence in which they are chosen. Combinations are used when the arrangement of the selected items is irrelevant, while permutations consider the order, which is not relevant in this case.\n",
    "\n",
    "We therefore use the [combination formula](https://en.wikipedia.org/wiki/Combination) to calculate the number of ways to select a smaller set of cups from a larger set. The formula is used to calculate how many ways we can choose **k** items from a total of **n** items, and it is given by:\n",
    "\n",
    "<br>\n",
    "\n",
    "![Binomial formula](https://latex.codecogs.com/png.latex?%5Cbinom%7Bn%7D%7Bk%7D%20%3D%20%5Cfrac%7Bn!%7D%7Bk!(n-k)!%7D)\n",
    "\n",
    "<br>\n",
    "\n",
    "Where:\n",
    "\n",
    "- **n!** (n factorial) is the product of all positive integers up to \\( n \\),\n",
    "- **k!** is the product of all positive integers up to \\( k \\),\n",
    "- **(n-k)!** is the product of all positive integers up to \\( (n - k) \\).\n",
    "\n",
    "\n"
   ]
  },
  {
   "cell_type": "markdown",
   "metadata": {},
   "source": [
    "Before we code, we can satisfy ourselves of the numbers mathematically by plugging in the figures:\n",
    "\n",
    "**8! (factorial of 8)** is:\n",
    "\n",
    "8 × 7 × 6 × 5 × 4 × 3 × 2 × 1 = 40,320\n",
    "\n",
    "**4! (factorial of 4)** is:\n",
    "\n",
    "4 × 3 × 2 × 1 = 24\n",
    "\n",
    "(8 − 4)! is equal 4!:\n",
    "\n",
    "4 × 3 × 2 × 1 = 24\n",
    "\n",
    "The number of combinations is:\n",
    "\n",
    "40,320 / (24 × 24) = 40,320 / 576 = 70\n",
    "\n",
    "\n"
   ]
  },
  {
   "cell_type": "markdown",
   "metadata": {},
   "source": [
    "Lets now plug in our updated figures:\n",
    "\n",
    "**12! (factorial of 12)** is:\n",
    "\n",
    "12 × 11 × 10 × 9 × 8 × 7 × 6 × 5 × 4 × 3 × 2 × 1 = 479,001,600\n",
    "\n",
    "**6! (factorial of 6)** is:\n",
    "\n",
    "6 × 5 × 4 × 3 × 2 × 1 = 720\n",
    "\n",
    "(12 − 6)! is 6!:\n",
    "\n",
    "6 × 5 × 4 × 3 × 2 × 1 = 720\n",
    "\n",
    "The number of combinations is now:\n",
    "\n",
    "479,001,600 / (720 × 720) = 479,001,600 / 518,400 = 924\n"
   ]
  },
  {
   "cell_type": "code",
   "execution_count": 26,
   "metadata": {},
   "outputs": [
    {
     "name": "stdout",
     "output_type": "stream",
     "text": [
      "In Fisher's experiment, the number of ways to choose 4 milk-before-tea from 8 cups is: 70\n"
     ]
    }
   ],
   "source": [
    "import math\n",
    "\n",
    "## Adapted from https://github.com/ianmcloughlin/2425_applied_statistics/blob/main/02_lady_tasting_tea.ipynb\n",
    "\n",
    "# Define our variables\n",
    "n = 8  # Total number of cups\n",
    "k = 4  # Number of cups with milk in first\n",
    "\n",
    "# Calculate the number of combinations\n",
    "combination = math.factorial(n) // (math.factorial(k) * math.factorial(n - k))\n",
    "\n",
    "print(f\"In Fisher's experiment, the number of ways to choose {k} milk-before-tea from {n} cups is: {combination}\")\n"
   ]
  },
  {
   "cell_type": "code",
   "execution_count": null,
   "metadata": {},
   "outputs": [],
   "source": []
  },
  {
   "cell_type": "code",
   "execution_count": 27,
   "metadata": {},
   "outputs": [
    {
     "name": "stdout",
     "output_type": "stream",
     "text": [
      "In our version of the experiment, the number of ways to choose 6 milk-before-tea cups from 12 cups is: 924\n"
     ]
    }
   ],
   "source": [
    "# Defining variables\n",
    "n = 12  # Total number of cups\n",
    "k = 6  # Number of cups with milk in first\n",
    "\n",
    "# Calculate the number of combinations\n",
    "combination = math.factorial(n) // (math.factorial(k) * math.factorial(n - k))\n",
    "\n",
    "print(f\"In our version of the experiment, the number of ways to choose {k} milk-before-tea cups from {n} cups is: {combination}\")\n"
   ]
  },
  {
   "cell_type": "markdown",
   "metadata": {},
   "source": [
    "[1]: https://www.irishtimes.com/news/science/how-a-tea-tasting-test-led-to-a-breakthrough-in-statistics-1.3998786 \"Irish Times Article\"\n",
    "[2]: https://towardsdatascience.com/lady-tasting-tea-a-bayesian-approach-1b0b94ca1530 \"Towards Data Science - Bayesian Approach\"\n",
    "[3]: https://en.wikipedia.org/wiki/Combination \"Combination - Wikipedia\"\n",
    "\n",
    "## References\n",
    "\n",
    "1. [How a tea-tasting test led to a breakthrough in statistics - Irish Times][1]\n",
    "2. [Lady Tasting Tea: A Bayesian Approach - Towards Data Science][2]\n",
    "3. [The Combination Formula - Wikipedia][3]\n"
   ]
  },
  {
   "cell_type": "markdown",
   "metadata": {},
   "source": []
  },
  {
   "cell_type": "markdown",
   "metadata": {},
   "source": [
    "#### Task 2: numpy's Normal Distribution\n",
    "\n",
    "\n"
   ]
  },
  {
   "cell_type": "markdown",
   "metadata": {},
   "source": [
    "#### Task 3: t-Test Calculation"
   ]
  },
  {
   "cell_type": "markdown",
   "metadata": {},
   "source": [
    "#### Task 4: ANOVA\n"
   ]
  }
 ],
 "metadata": {
  "kernelspec": {
   "display_name": "Python 3",
   "language": "python",
   "name": "python3"
  },
  "language_info": {
   "codemirror_mode": {
    "name": "ipython",
    "version": 3
   },
   "file_extension": ".py",
   "mimetype": "text/x-python",
   "name": "python",
   "nbconvert_exporter": "python",
   "pygments_lexer": "ipython3",
   "version": "3.12.7"
  }
 },
 "nbformat": 4,
 "nbformat_minor": 2
}
