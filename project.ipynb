{
 "cells": [
  {
   "cell_type": "markdown",
   "metadata": {},
   "source": [
    "#### PlantGrowth R dataset project\n",
    "##### Problem statement\n",
    "Complete the project in a single notebook called project.ipynb in your repository. The same style should be used as detailed above: explanations in MarkDown and code comments, clean code, and regular commits. Use plots as appropriate.\n",
    "\n",
    "In this project, you will analyze the PlantGrowth R dataset. You will find a short description of it on Vicent Arel-Bundock's Rdatasets page. The dataset contains two main variables, a treatment group and the weight of plants within those groups.\n",
    "\n",
    "Your task is to perform t-tests and ANOVA on this dataset while describing the dataset and explaining your work. In doing this you should:\n",
    "\n",
    "- Download and save the dataset to your repository.\n",
    "\n",
    "- Describe the data set in your notebook.\n",
    "\n",
    "- Describe what a t-test is, how it works, and what the assumptions are.\n",
    "\n",
    "- Perform a t-test to determine whether there is a significant difference between the two treatment groups trt1 and trt2.\n",
    "\n",
    "- Perform ANOVA to determine whether there is a significant difference between the three treatment groups ctrl, trt1, and trt2.\n",
    "\n",
    "- Explain why it is more appropriate to apply ANOVA rather than several t-tests when analyzing more than two groups.\n",
    "\n"
   ]
  },
  {
   "cell_type": "markdown",
   "metadata": {},
   "source": [
    "##### Introduction\n",
    "\n",
    "![Lady Tasting Tea](images/venusflytrap.PNG)\n",
    "<br>\n",
    "<br>\n",
    "This project involves an analysis of the PlantGrowth dataset from Vincent Arel Bundock's [R Rdatasets collection](https://vincentarelbundock.github.io/Rdatasets/). The dataset includes two variables: plant weight and treatment groups. My objective is to examine any potential differences in plant growth across these groups using t-tests and ANOVA. The analysis will (hopefully) help us to understand more about the impact of growth treatments on plant weight.\n",
    "\n",
    "We'll start off by important the relevant libraries. \n",
    "\n",
    "\n",
    "\n",
    "\n",
    "\n",
    "\n",
    "\n",
    "\n",
    "\n",
    "\n",
    "\n",
    "\n",
    "\n"
   ]
  },
  {
   "cell_type": "code",
   "execution_count": 22,
   "metadata": {},
   "outputs": [],
   "source": [
    "import pandas as pd"
   ]
  },
  {
   "cell_type": "markdown",
   "metadata": {},
   "source": [
    "We need to read in the csv and display the dataframe information. The info() method provides information about the dataset, including the number of rows, columns, column names, data types, and memory usage."
   ]
  },
  {
   "cell_type": "code",
   "execution_count": 23,
   "metadata": {},
   "outputs": [
    {
     "name": "stdout",
     "output_type": "stream",
     "text": [
      "<class 'pandas.core.frame.DataFrame'>\n",
      "RangeIndex: 30 entries, 0 to 29\n",
      "Data columns (total 3 columns):\n",
      " #   Column    Non-Null Count  Dtype  \n",
      "---  ------    --------------  -----  \n",
      " 0   rownames  30 non-null     int64  \n",
      " 1   weight    30 non-null     float64\n",
      " 2   group     30 non-null     object \n",
      "dtypes: float64(1), int64(1), object(1)\n",
      "memory usage: 852.0+ bytes\n"
     ]
    }
   ],
   "source": [
    "# Let's load the .csv into a dataframe and get the df info\n",
    "PGdata = pd.read_csv(r'C:\\Users\\Administrator\\Data Analytics\\Applied Statistics\\PlantGrowth.csv') \n",
    "PGdata.info()\n"
   ]
  },
  {
   "cell_type": "markdown",
   "metadata": {},
   "source": [
    "This helps to confirm that treatment is a categorical variable and weight is a numerical variable. This confirmation is important in the planning stages, since both the t-test and the ANOVA assume specific data types. We can see that there are 30 non-null entries so no we know the sample size and since the values are non-null, we don't need to worry about any missing values."
   ]
  }
 ],
 "metadata": {
  "kernelspec": {
   "display_name": "Python 3",
   "language": "python",
   "name": "python3"
  },
  "language_info": {
   "codemirror_mode": {
    "name": "ipython",
    "version": 3
   },
   "file_extension": ".py",
   "mimetype": "text/x-python",
   "name": "python",
   "nbconvert_exporter": "python",
   "pygments_lexer": "ipython3",
   "version": "3.12.7"
  }
 },
 "nbformat": 4,
 "nbformat_minor": 2
}
